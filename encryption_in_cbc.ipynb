{
 "cells": [
  {
   "cell_type": "code",
   "id": "initial_id",
   "metadata": {
    "collapsed": true,
    "ExecuteTime": {
     "end_time": "2025-04-28T21:50:48.523877Z",
     "start_time": "2025-04-28T21:50:48.259632Z"
    }
   },
   "source": [
    "import os\n",
    "import shutil\n",
    "import math\n",
    "from Crypto.Cipher import AES, DES, DES3, ARC4\n",
    "from Crypto.Random import get_random_bytes\n",
    "from Crypto.Util.Padding import pad\n",
    "\n",
    "def generate_keys(keys_per_algorithm):\n",
    "    keys = {}\n",
    "    for algo in ['AES', 'DES', 'DES3', 'ARC4']:\n",
    "        key_list = []\n",
    "        for _ in range(keys_per_algorithm):\n",
    "            if algo == 'AES':\n",
    "                key_list.append(get_random_bytes(16))\n",
    "            elif algo == 'DES':\n",
    "                key_list.append(get_random_bytes(8))\n",
    "            elif algo == 'DES3':\n",
    "                key_list.append(DES3.adjust_key_parity(get_random_bytes(24)))\n",
    "            elif algo == 'ARC4':\n",
    "                key_list.append(get_random_bytes(16))\n",
    "        keys[algo] = key_list\n",
    "    return keys\n",
    "\n",
    "def encrypt_cbc(algo, key, data):\n",
    "    if algo == 'AES':\n",
    "        iv = get_random_bytes(16)\n",
    "        cipher = AES.new(key, AES.MODE_CBC, iv)\n",
    "        padded_data = pad(data, AES.block_size)\n",
    "        return iv + cipher.encrypt(padded_data)\n",
    "    elif algo == 'DES':\n",
    "        iv = get_random_bytes(8)\n",
    "        cipher = DES.new(key, DES.MODE_CBC, iv)\n",
    "        padded_data = pad(data, DES.block_size)\n",
    "        return iv + cipher.encrypt(padded_data)\n",
    "    elif algo == 'DES3':\n",
    "        iv = get_random_bytes(8)\n",
    "        cipher = DES3.new(key, DES.MODE_CBC, iv)\n",
    "        padded_data = pad(data, DES3.block_size)\n",
    "        return iv + cipher.encrypt(padded_data)\n",
    "    elif algo == 'ARC4':\n",
    "        cipher = ARC4.new(key)\n",
    "        return cipher.encrypt(data)\n",
    "    else:\n",
    "        raise ValueError(f\"Unsupported algorithm: {algo}\")\n",
    "\n",
    "def encrypt_files_by_format_cbc(base_dir, save_dir, keys_per_algorithm=3):\n",
    "    formats = ['bmp', 'csv', 'html', 'pyth', 'txt', 'wav']\n",
    "    algorithms = ['AES', 'DES', 'DES3', 'ARC4', 'NONE']\n",
    "\n",
    "    keys = generate_keys(keys_per_algorithm)\n",
    "\n",
    "    for folder in formats:\n",
    "        input_dir = os.path.join(base_dir, folder)\n",
    "        if not os.path.exists(input_dir):\n",
    "            continue\n",
    "\n",
    "        file_list = sorted([f for f in os.listdir(input_dir) if os.path.isfile(os.path.join(input_dir, f))])\n",
    "        total_files = len(file_list)\n",
    "        files_per_algo = math.ceil(total_files / len(algorithms))\n",
    "\n",
    "        os.makedirs(save_dir, exist_ok=True)\n",
    "\n",
    "        for i, algo in enumerate(algorithms):\n",
    "            start_idx = i * files_per_algo\n",
    "            end_idx = min((i + 1) * files_per_algo, total_files)\n",
    "            selected_files = file_list[start_idx:end_idx]\n",
    "\n",
    "            output_dir = os.path.join(save_dir, f\"{folder}_cbc\", f\"{algo}\")\n",
    "            os.makedirs(output_dir, exist_ok=True)\n",
    "\n",
    "            for j, file_name in enumerate(selected_files):\n",
    "                input_path = os.path.join(input_dir, file_name)\n",
    "                output_path = os.path.join(output_dir, file_name + ('' if algo == 'NONE' else '.enc'))\n",
    "\n",
    "                with open(input_path, 'rb') as f:\n",
    "                    plain_text = f.read()\n",
    "\n",
    "                if algo == 'NONE':\n",
    "                    shutil.copy2(input_path, output_path)\n",
    "                else:\n",
    "                    key_index = j % keys_per_algorithm\n",
    "                    key = keys[algo][key_index]\n",
    "                    cipher_text = encrypt_cbc(algo, key, plain_text)\n",
    "                    with open(output_path, 'wb') as f_encrypted:\n",
    "                        f_encrypted.write(cipher_text)\n",
    "\n",
    "    print(f\"All files encrypted (CBC mode) using {keys_per_algorithm} keys per algorithm.\")"
   ],
   "outputs": [],
   "execution_count": 1
  },
  {
   "metadata": {
    "ExecuteTime": {
     "end_time": "2025-04-28T21:52:46.240602Z",
     "start_time": "2025-04-28T21:52:39.649591Z"
    }
   },
   "cell_type": "code",
   "source": "encrypt_files_by_format_cbc('files/1000_files', 'encrypted_cbc/encrypted_cbc_1000/encrypted_cbc_1000_1key', 1)",
   "id": "46a9809347903d9f",
   "outputs": [
    {
     "name": "stdout",
     "output_type": "stream",
     "text": [
      "All files encrypted (CBC mode) using 1 keys per algorithm.\n"
     ]
    }
   ],
   "execution_count": 3
  },
  {
   "metadata": {
    "ExecuteTime": {
     "end_time": "2025-04-28T21:53:23.660721Z",
     "start_time": "2025-04-28T21:53:17.446926Z"
    }
   },
   "cell_type": "code",
   "source": "encrypt_files_by_format_cbc('files/1000_files', 'encrypted_cbc/encrypted_cbc_1000/encrypted_cbc_1000_3keys', 3)",
   "id": "7ee8cd3725916f30",
   "outputs": [
    {
     "name": "stdout",
     "output_type": "stream",
     "text": [
      "All files encrypted (CBC mode) using 3 keys per algorithm.\n"
     ]
    }
   ],
   "execution_count": 4
  },
  {
   "metadata": {
    "ExecuteTime": {
     "end_time": "2025-04-28T21:54:14.979018Z",
     "start_time": "2025-04-28T21:54:09.231240Z"
    }
   },
   "cell_type": "code",
   "source": "encrypt_files_by_format_cbc('files/1000_files', 'encrypted_cbc/encrypted_cbc_1000/encrypted_cbc_1000_6keys', 6)",
   "id": "12792798dfd05246",
   "outputs": [
    {
     "name": "stdout",
     "output_type": "stream",
     "text": [
      "All files encrypted (CBC mode) using 6 keys per algorithm.\n"
     ]
    }
   ],
   "execution_count": 5
  },
  {
   "metadata": {
    "ExecuteTime": {
     "end_time": "2025-04-28T21:54:56.727507Z",
     "start_time": "2025-04-28T21:54:45.160538Z"
    }
   },
   "cell_type": "code",
   "source": "encrypt_files_by_format_cbc('files/1800_files', 'encrypted_cbc/encrypted_cbc_1800/encrypted_cbc_1800_1key', 1)",
   "id": "23454aff2522e59e",
   "outputs": [
    {
     "name": "stdout",
     "output_type": "stream",
     "text": [
      "All files encrypted (CBC mode) using 1 keys per algorithm.\n"
     ]
    }
   ],
   "execution_count": 6
  },
  {
   "metadata": {
    "ExecuteTime": {
     "end_time": "2025-04-28T21:57:22.272720Z",
     "start_time": "2025-04-28T21:57:11.439102Z"
    }
   },
   "cell_type": "code",
   "source": "encrypt_files_by_format_cbc('files/1800_files', 'encrypted_cbc/encrypted_cbc_1800/encrypted_cbc_1800_3keys', 3)",
   "id": "edcb86da9e637457",
   "outputs": [
    {
     "name": "stdout",
     "output_type": "stream",
     "text": [
      "All files encrypted (CBC mode) using 3 keys per algorithm.\n"
     ]
    }
   ],
   "execution_count": 7
  },
  {
   "metadata": {
    "ExecuteTime": {
     "end_time": "2025-04-28T21:58:21.360154Z",
     "start_time": "2025-04-28T21:58:10.759111Z"
    }
   },
   "cell_type": "code",
   "source": "encrypt_files_by_format_cbc('files/1800_files', 'encrypted_cbc/encrypted_cbc_1800/encrypted_cbc_1800_6keys', 6)",
   "id": "d426053c8c3eb91f",
   "outputs": [
    {
     "name": "stdout",
     "output_type": "stream",
     "text": [
      "All files encrypted (CBC mode) using 6 keys per algorithm.\n"
     ]
    }
   ],
   "execution_count": 8
  },
  {
   "metadata": {
    "ExecuteTime": {
     "end_time": "2025-04-28T21:59:02.029035Z",
     "start_time": "2025-04-28T21:58:43.536981Z"
    }
   },
   "cell_type": "code",
   "source": "encrypt_files_by_format_cbc('files/3000_files', 'encrypted_cbc/encrypted_cbc_3000/encrypted_cbc_3000_1key', 1)",
   "id": "8ffc24b1a4a1d0",
   "outputs": [
    {
     "name": "stdout",
     "output_type": "stream",
     "text": [
      "All files encrypted (CBC mode) using 1 keys per algorithm.\n"
     ]
    }
   ],
   "execution_count": 9
  },
  {
   "metadata": {
    "ExecuteTime": {
     "end_time": "2025-04-28T22:00:23.479300Z",
     "start_time": "2025-04-28T22:00:05.167586Z"
    }
   },
   "cell_type": "code",
   "source": "encrypt_files_by_format_cbc('files/3000_files', 'encrypted_cbc/encrypted_cbc_3000/encrypted_cbc_3000_3keys', 3)",
   "id": "4dc1792fa17ad8a4",
   "outputs": [
    {
     "name": "stdout",
     "output_type": "stream",
     "text": [
      "All files encrypted (CBC mode) using 3 keys per algorithm.\n"
     ]
    }
   ],
   "execution_count": 10
  },
  {
   "metadata": {
    "ExecuteTime": {
     "end_time": "2025-04-28T22:00:41.373088Z",
     "start_time": "2025-04-28T22:00:23.547025Z"
    }
   },
   "cell_type": "code",
   "source": "encrypt_files_by_format_cbc('files/3000_files', 'encrypted_cbc/encrypted_cbc_3000/encrypted_cbc_3000_6keys', 6)",
   "id": "503ba088f75637e5",
   "outputs": [
    {
     "name": "stdout",
     "output_type": "stream",
     "text": [
      "All files encrypted (CBC mode) using 6 keys per algorithm.\n"
     ]
    }
   ],
   "execution_count": 11
  }
 ],
 "metadata": {
  "kernelspec": {
   "display_name": "Python 3",
   "language": "python",
   "name": "python3"
  },
  "language_info": {
   "codemirror_mode": {
    "name": "ipython",
    "version": 2
   },
   "file_extension": ".py",
   "mimetype": "text/x-python",
   "name": "python",
   "nbconvert_exporter": "python",
   "pygments_lexer": "ipython2",
   "version": "2.7.6"
  }
 },
 "nbformat": 4,
 "nbformat_minor": 5
}
