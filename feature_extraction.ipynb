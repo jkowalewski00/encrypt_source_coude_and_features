{
 "cells": [
  {
   "cell_type": "code",
   "id": "15cfc790",
   "metadata": {
    "ExecuteTime": {
     "end_time": "2025-04-28T22:03:44.937011Z",
     "start_time": "2025-04-28T22:03:44.933714Z"
    }
   },
   "source": [
    "import os\n",
    "import pandas as pd\n",
    "import numpy as np\n",
    "import scipy.stats as stats\n",
    "from collections import Counter\n",
    "from math import log2"
   ],
   "outputs": [],
   "execution_count": 3
  },
  {
   "cell_type": "markdown",
   "id": "41ecb26e",
   "metadata": {},
   "source": [
    "Calculating entropy"
   ]
  },
  {
   "cell_type": "code",
   "id": "0a083e58",
   "metadata": {
    "ExecuteTime": {
     "end_time": "2025-04-28T22:03:46.014219Z",
     "start_time": "2025-04-28T22:03:46.010844Z"
    }
   },
   "source": [
    "def calculate_entropy(byte_data):\n",
    "    if len(byte_data) == 0:\n",
    "        return 0\n",
    "    \n",
    "    counts = Counter(byte_data)\n",
    "    length = len(byte_data)\n",
    "    return -sum((freq / length) * log2(freq / length) for freq in counts.values())"
   ],
   "outputs": [],
   "execution_count": 4
  },
  {
   "cell_type": "markdown",
   "id": "c89a9c11",
   "metadata": {},
   "source": [
    "Feature extraction from file"
   ]
  },
  {
   "cell_type": "code",
   "id": "0a21852c",
   "metadata": {
    "ExecuteTime": {
     "end_time": "2025-04-28T22:03:47.464249Z",
     "start_time": "2025-04-28T22:03:47.459404Z"
    }
   },
   "source": [
    "def extract_values(file_path):\n",
    "    with open(file_path, 'rb') as file:\n",
    "        byte_data = file.read()\n",
    "\n",
    "    if not byte_data:\n",
    "        return None\n",
    "    \n",
    "    byte_array = np.frombuffer(byte_data, dtype=np.uint8)\n",
    "\n",
    "    entropy = calculate_entropy(byte_array)\n",
    "    mean = np.mean(byte_array)\n",
    "    variance = np.var(byte_array)\n",
    "    std_dev = np.std(byte_array)\n",
    "    skewness = stats.skew(byte_array)\n",
    "    kurtosis = stats.kurtosis(byte_array)\n",
    "    energy = np.sum(byte_array ** 2)\n",
    "    rms = np.sqrt(np.mean(byte_array ** 2))\n",
    "    hist, _ = np.histogram(byte_array, bins=256, range=(0,256))\n",
    "\n",
    "    return [entropy, mean, variance, std_dev, skewness, kurtosis, energy, rms] + hist.tolist()"
   ],
   "outputs": [],
   "execution_count": 5
  },
  {
   "cell_type": "markdown",
   "id": "05c39467",
   "metadata": {},
   "source": [
    "Files preprocesing"
   ]
  },
  {
   "cell_type": "code",
   "id": "fe789ac6",
   "metadata": {
    "ExecuteTime": {
     "end_time": "2025-04-28T22:03:49.381574Z",
     "start_time": "2025-04-28T22:03:49.375502Z"
    }
   },
   "source": [
    "def process_encrypted_files(input_dir, output_dir):\n",
    "    all_data = []\n",
    "    os.makedirs(output_dir, exist_ok=True)\n",
    "\n",
    "    for format_dir in os.listdir(input_dir):\n",
    "        format_path = os.path.join(input_dir, format_dir)\n",
    "        if not os.path.isdir(format_path):\n",
    "            continue\n",
    "\n",
    "        format_data = []\n",
    "\n",
    "        for algo in os.listdir(format_path):\n",
    "            algo_path = os.path.join(format_path, algo)\n",
    "            if not os.path.isdir(algo_path):\n",
    "                continue\n",
    "\n",
    "            for file_name in os.listdir(algo_path):\n",
    "                file_path = os.path.join(algo_path, file_name)\n",
    "                features = extract_values(file_path)\n",
    "                if features:\n",
    "                    row = [file_name, format_dir] + features + [algo]\n",
    "                    all_data.append(row)\n",
    "                    format_data.append(row)\n",
    "\n",
    "        if format_data:\n",
    "            columns = [\"file_name\", \"format\", \"entropy\", \"mean\", \"variance\", \"std_dev\",\n",
    "                       \"skewness\", \"kurtosis\", \"energy\", \"rms\"] + [f\"histogram_{i}\" for i in range(256)] + [\"algorithm\"]\n",
    "            df_format = pd.DataFrame(format_data, columns=columns)\n",
    "            df_format.to_csv(os.path.join(output_dir, f\"features_{format_dir}.csv\"), index=False)\n",
    "\n",
    "    if all_data:\n",
    "        columns = [\"file_name\", \"format\", \"entropy\", \"mean\", \"variance\", \"std_dev\",\n",
    "                   \"skewness\", \"kurtosis\", \"energy\", \"rms\"] + [f\"histogram_{i}\" for i in range(256)] + [\"algorithm\"]\n",
    "        df_all = pd.DataFrame(all_data, columns=columns)\n",
    "        df_all.to_csv(os.path.join(output_dir, \"features_all.csv\"), index=False)\n",
    "\n",
    "    return \"Extraction ended.\""
   ],
   "outputs": [],
   "execution_count": 6
  },
  {
   "cell_type": "markdown",
   "id": "245d8885",
   "metadata": {},
   "source": [
    "Extraction"
   ]
  },
  {
   "cell_type": "code",
   "id": "eb1120ef",
   "metadata": {
    "ExecuteTime": {
     "end_time": "2025-04-23T21:05:38.719232Z",
     "start_time": "2025-04-23T21:05:00.545996Z"
    }
   },
   "source": [
    "process_encrypted_files('encrypted_ecb/encrypted_ecb_1000/encrypted_ecb_1000_1key',\n",
    "                        'features_ecb/features_ecb_1000/features_ecb_1000_1key_csv')"
   ],
   "outputs": [
    {
     "data": {
      "text/plain": [
       "'Extraction ended.'"
      ]
     },
     "execution_count": 6,
     "metadata": {},
     "output_type": "execute_result"
    }
   ],
   "execution_count": 6
  },
  {
   "metadata": {
    "ExecuteTime": {
     "end_time": "2025-04-23T21:06:45.037582Z",
     "start_time": "2025-04-23T21:05:38.789781Z"
    }
   },
   "cell_type": "code",
   "source": [
    "process_encrypted_files('encrypted_ecb/encrypted_ecb_1800/encrypted_ecb_1800_1key',\n",
    "                        'features_ecb/features_ecb_1800/features_ecb_1800_1key_csv')\n"
   ],
   "id": "9bdd7c8a286bba69",
   "outputs": [
    {
     "data": {
      "text/plain": [
       "'Extraction ended.'"
      ]
     },
     "execution_count": 7,
     "metadata": {},
     "output_type": "execute_result"
    }
   ],
   "execution_count": 7
  },
  {
   "metadata": {
    "jupyter": {
     "is_executing": true
    },
    "ExecuteTime": {
     "start_time": "2025-04-23T21:06:45.101549Z"
    }
   },
   "cell_type": "code",
   "source": [
    "process_encrypted_files('encrypted_ecb/encrypted_ecb_3000/encrypted_ecb_3000_1key',\n",
    "                        'features_ecb/features_ecb_3000/features_ecb_3000_1key_csv')\n"
   ],
   "id": "ed4b9d6b7fd10ea5",
   "outputs": [],
   "execution_count": null
  },
  {
   "metadata": {
    "ExecuteTime": {
     "end_time": "2025-04-23T21:42:29.060768Z",
     "start_time": "2025-04-23T21:41:51.624214Z"
    }
   },
   "cell_type": "code",
   "source": [
    "process_encrypted_files('encrypted_ecb/encrypted_ecb_1000/encrypted_ecb_1000_3keys',\n",
    "                        'features_ecb/features_ecb_1000/features_ecb_1000_3keys_csv')"
   ],
   "id": "8fc4e36fc0346053",
   "outputs": [
    {
     "data": {
      "text/plain": [
       "'Extraction ended.'"
      ]
     },
     "execution_count": 6,
     "metadata": {},
     "output_type": "execute_result"
    }
   ],
   "execution_count": 6
  },
  {
   "metadata": {
    "ExecuteTime": {
     "end_time": "2025-04-23T21:43:43.574106Z",
     "start_time": "2025-04-23T21:42:37.201546Z"
    }
   },
   "cell_type": "code",
   "source": [
    "process_encrypted_files('encrypted_ecb/encrypted_ecb_1800/encrypted_ecb_1800_3keys',\n",
    "                        'features_ecb/features_ecb_1800/features_ecb_1800_3keys_csv')"
   ],
   "id": "979724da787813a4",
   "outputs": [
    {
     "data": {
      "text/plain": [
       "'Extraction ended.'"
      ]
     },
     "execution_count": 7,
     "metadata": {},
     "output_type": "execute_result"
    }
   ],
   "execution_count": 7
  },
  {
   "metadata": {
    "ExecuteTime": {
     "end_time": "2025-04-23T21:46:31.529018Z",
     "start_time": "2025-04-23T21:45:27.204942Z"
    }
   },
   "cell_type": "code",
   "source": [
    "process_encrypted_files('encrypted_ecb/encrypted_ecb_1800/encrypted_ecb_1800_6keys',\n",
    "                        'features_ecb/features_ecb_1800/features_ecb_1800_6keys_csv')"
   ],
   "id": "5dc43ad9bc4927aa",
   "outputs": [
    {
     "data": {
      "text/plain": [
       "'Extraction ended.'"
      ]
     },
     "execution_count": 8,
     "metadata": {},
     "output_type": "execute_result"
    }
   ],
   "execution_count": 8
  },
  {
   "metadata": {
    "ExecuteTime": {
     "end_time": "2025-04-23T21:50:00.319250Z",
     "start_time": "2025-04-23T21:48:09.102441Z"
    }
   },
   "cell_type": "code",
   "source": [
    "process_encrypted_files('encrypted_ecb/encrypted_ecb_3000/encrypted_ecb_3000_3keys',\n",
    "                        'features_ecb/features_ecb_3000/features_ecb_3000_3keys_csv')\n"
   ],
   "id": "c37899748942e94e",
   "outputs": [
    {
     "data": {
      "text/plain": [
       "'Extraction ended.'"
      ]
     },
     "execution_count": 9,
     "metadata": {},
     "output_type": "execute_result"
    }
   ],
   "execution_count": 9
  },
  {
   "metadata": {
    "ExecuteTime": {
     "end_time": "2025-04-23T22:00:23.376248Z",
     "start_time": "2025-04-23T21:58:31.058701Z"
    }
   },
   "cell_type": "code",
   "source": [
    "process_encrypted_files('encrypted_ecb/encrypted_ecb_3000/encrypted_ecb_3000_6keys',\n",
    "                        'features_ecb/features_ecb_3000/features_ecb_3000_6keys_csv')\n"
   ],
   "id": "3edb5f20f6cbb1a6",
   "outputs": [
    {
     "data": {
      "text/plain": [
       "'Extraction ended.'"
      ]
     },
     "execution_count": 10,
     "metadata": {},
     "output_type": "execute_result"
    }
   ],
   "execution_count": 10
  },
  {
   "metadata": {
    "ExecuteTime": {
     "end_time": "2025-04-23T22:01:06.005450Z",
     "start_time": "2025-04-23T22:00:29.444868Z"
    }
   },
   "cell_type": "code",
   "source": [
    "process_encrypted_files('encrypted_ecb/encrypted_ecb_1000/encrypted_ecb_1000_6keys',\n",
    "                        'features_ecb/features_ecb_1000/features_ecb_1000_6keys_csv')"
   ],
   "id": "566a7f9b07dbdfc6",
   "outputs": [
    {
     "data": {
      "text/plain": [
       "'Extraction ended.'"
      ]
     },
     "execution_count": 11,
     "metadata": {},
     "output_type": "execute_result"
    }
   ],
   "execution_count": 11
  },
  {
   "metadata": {
    "ExecuteTime": {
     "end_time": "2025-04-28T22:04:34.981558Z",
     "start_time": "2025-04-28T22:03:52.920019Z"
    }
   },
   "cell_type": "code",
   "source": [
    "process_encrypted_files('encrypted_cbc/encrypted_cbc_1000/encrypted_cbc_1000_1key',\n",
    "                        'features_cbc/features_cbc_1000/features_cbc_1000_1key_csv')"
   ],
   "id": "9b7a43cca5593b6b",
   "outputs": [
    {
     "data": {
      "text/plain": [
       "'Extraction ended.'"
      ]
     },
     "execution_count": 7,
     "metadata": {},
     "output_type": "execute_result"
    }
   ],
   "execution_count": 7
  },
  {
   "metadata": {
    "ExecuteTime": {
     "end_time": "2025-04-28T22:05:17.441688Z",
     "start_time": "2025-04-28T22:04:35.042506Z"
    }
   },
   "cell_type": "code",
   "source": [
    "process_encrypted_files('encrypted_cbc/encrypted_cbc_1000/encrypted_cbc_1000_3keys',\n",
    "                        'features_cbc/features_cbc_1000/features_cbc_1000_3keys_csv')"
   ],
   "id": "3c91fc4d24ecf565",
   "outputs": [
    {
     "data": {
      "text/plain": [
       "'Extraction ended.'"
      ]
     },
     "execution_count": 8,
     "metadata": {},
     "output_type": "execute_result"
    }
   ],
   "execution_count": 8
  },
  {
   "metadata": {
    "ExecuteTime": {
     "end_time": "2025-04-28T22:05:59.420714Z",
     "start_time": "2025-04-28T22:05:17.506606Z"
    }
   },
   "cell_type": "code",
   "source": [
    "process_encrypted_files('encrypted_cbc/encrypted_cbc_1000/encrypted_cbc_1000_6keys',\n",
    "                        'features_cbc/features_cbc_1000/features_cbc_1000_6keys_csv')"
   ],
   "id": "4a4cf6360ed28f85",
   "outputs": [
    {
     "data": {
      "text/plain": [
       "'Extraction ended.'"
      ]
     },
     "execution_count": 9,
     "metadata": {},
     "output_type": "execute_result"
    }
   ],
   "execution_count": 9
  },
  {
   "metadata": {
    "ExecuteTime": {
     "end_time": "2025-04-28T22:07:14.704194Z",
     "start_time": "2025-04-28T22:05:59.487656Z"
    }
   },
   "cell_type": "code",
   "source": [
    "process_encrypted_files('encrypted_cbc/encrypted_cbc_1800/encrypted_cbc_1800_1key',\n",
    "                        'features_cbc/features_cbc_1800/features_cbc_1800_1key_csv')"
   ],
   "id": "db54bea642e5db5e",
   "outputs": [
    {
     "data": {
      "text/plain": [
       "'Extraction ended.'"
      ]
     },
     "execution_count": 10,
     "metadata": {},
     "output_type": "execute_result"
    }
   ],
   "execution_count": 10
  },
  {
   "metadata": {
    "ExecuteTime": {
     "end_time": "2025-04-28T22:08:31.609166Z",
     "start_time": "2025-04-28T22:07:14.776336Z"
    }
   },
   "cell_type": "code",
   "source": [
    "process_encrypted_files('encrypted_cbc/encrypted_cbc_1800/encrypted_cbc_1800_3keys',\n",
    "                        'features_cbc/features_cbc_1800/features_cbc_1800_3keys_csv')"
   ],
   "id": "9b633b3ff7fdbfb5",
   "outputs": [
    {
     "data": {
      "text/plain": [
       "'Extraction ended.'"
      ]
     },
     "execution_count": 11,
     "metadata": {},
     "output_type": "execute_result"
    }
   ],
   "execution_count": 11
  },
  {
   "metadata": {
    "ExecuteTime": {
     "end_time": "2025-04-28T22:09:45.499211Z",
     "start_time": "2025-04-28T22:08:31.675016Z"
    }
   },
   "cell_type": "code",
   "source": [
    "process_encrypted_files('encrypted_cbc/encrypted_cbc_1800/encrypted_cbc_1800_6keys',\n",
    "                        'features_cbc/features_cbc_1800/features_cbc_1800_6keys_csv')"
   ],
   "id": "9985fb3ca9e0955a",
   "outputs": [
    {
     "data": {
      "text/plain": [
       "'Extraction ended.'"
      ]
     },
     "execution_count": 12,
     "metadata": {},
     "output_type": "execute_result"
    }
   ],
   "execution_count": 12
  },
  {
   "metadata": {
    "ExecuteTime": {
     "end_time": "2025-04-28T22:11:57.895158Z",
     "start_time": "2025-04-28T22:09:45.564332Z"
    }
   },
   "cell_type": "code",
   "source": [
    "process_encrypted_files('encrypted_cbc/encrypted_cbc_3000/encrypted_cbc_3000_1key',\n",
    "                        'features_cbc/features_cbc_3000/features_cbc_3000_1key_csv')"
   ],
   "id": "c2d1328bde7c6a3b",
   "outputs": [
    {
     "data": {
      "text/plain": [
       "'Extraction ended.'"
      ]
     },
     "execution_count": 13,
     "metadata": {},
     "output_type": "execute_result"
    }
   ],
   "execution_count": 13
  },
  {
   "metadata": {
    "ExecuteTime": {
     "end_time": "2025-04-28T22:14:09.805657Z",
     "start_time": "2025-04-28T22:11:57.960958Z"
    }
   },
   "cell_type": "code",
   "source": [
    "process_encrypted_files('encrypted_cbc/encrypted_cbc_3000/encrypted_cbc_3000_3keys',\n",
    "                        'features_cbc/features_cbc_3000/features_cbc_3000_3keys_csv')"
   ],
   "id": "16cc78129a6d57ed",
   "outputs": [
    {
     "data": {
      "text/plain": [
       "'Extraction ended.'"
      ]
     },
     "execution_count": 14,
     "metadata": {},
     "output_type": "execute_result"
    }
   ],
   "execution_count": 14
  },
  {
   "metadata": {
    "ExecuteTime": {
     "end_time": "2025-04-28T22:16:21.037985Z",
     "start_time": "2025-04-28T22:14:09.870906Z"
    }
   },
   "cell_type": "code",
   "source": [
    "process_encrypted_files('encrypted_cbc/encrypted_cbc_3000/encrypted_cbc_3000_6keys',\n",
    "                        'features_cbc/features_cbc_3000/features_cbc_3000_6keys_csv')"
   ],
   "id": "76b4ae292d9f6496",
   "outputs": [
    {
     "data": {
      "text/plain": [
       "'Extraction ended.'"
      ]
     },
     "execution_count": 15,
     "metadata": {},
     "output_type": "execute_result"
    }
   ],
   "execution_count": 15
  }
 ],
 "metadata": {
  "kernelspec": {
   "display_name": "venv",
   "language": "python",
   "name": "python3"
  },
  "language_info": {
   "codemirror_mode": {
    "name": "ipython",
    "version": 3
   },
   "file_extension": ".py",
   "mimetype": "text/x-python",
   "name": "python",
   "nbconvert_exporter": "python",
   "pygments_lexer": "ipython3",
   "version": "3.12.3"
  }
 },
 "nbformat": 4,
 "nbformat_minor": 5
}
